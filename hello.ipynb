{
 "cells": [
  {
   "cell_type": "code",
   "execution_count": 1,
   "source": [
    "import pandas as pd\r\n",
    "\r\n",
    "#create the data for positive samples\r\n",
    "\r\n",
    "FILE_PATH = 'D:\\Projects\\covid-chestxray-dataset-master/metadata.csv'\r\n",
    "IMAGES_PATH = 'D:\\Projects\\covid-chestxray-dataset-master/covid_+_images'\r\n",
    "\r\n",
    "\r\n",
    "df = pd.read_csv(FILE_PATH)\r\n",
    "print(df.shape)"
   ],
   "outputs": [
    {
     "output_type": "stream",
     "name": "stdout",
     "text": [
      "(950, 30)\n"
     ]
    }
   ],
   "metadata": {}
  },
  {
   "cell_type": "code",
   "execution_count": 3,
   "source": [
    "import os\r\n",
    "import shutil\r\n",
    "TARGET_DIR = 'dataset/covid'\r\n",
    "if not os.path.exists(TARGET_DIR):\r\n",
    "    os.mkdir(TARGET_DIR)\r\n",
    "    print('covid folder created ')"
   ],
   "outputs": [
    {
     "output_type": "stream",
     "name": "stdout",
     "text": [
      "covid folder created \n"
     ]
    }
   ],
   "metadata": {}
  },
  {
   "cell_type": "code",
   "execution_count": 11,
   "source": [
    "cnt = 0\r\n",
    "for (i,row) in df.iterrows():\r\n",
    "    if row['finding'] == 'Pneumonia/Viral/COVID-19' and row['view'] == 'PA':\r\n",
    "        filename = row['filename']\r\n",
    "        image_path = os.path.join(IMAGES_PATH,filename)\r\n",
    "        image_copy_path =  os.path.join(TARGET_DIR,filename)\r\n",
    "        shutil.copy(image_path,image_copy_path)\r\n",
    "        #print('Moving image',cnt)\r\n",
    "        cnt+=1\r\n",
    "print(cnt)"
   ],
   "outputs": [
    {
     "output_type": "stream",
     "name": "stdout",
     "text": [
      "196\n"
     ]
    }
   ],
   "metadata": {}
  },
  {
   "cell_type": "code",
   "execution_count": 21,
   "source": [
    "##sampling kaggle \r\n",
    "##50 -50 \r\n",
    "# randomly choose 196\r\n",
    "\r\n",
    "import random\r\n",
    "KAGGLE_FILE_PATH = r\"D:\\Projects\\covid-chestxray-dataset-master\\new_folder\\chest_xray\\train\\NORMAL\"\r\n",
    "TARGET_NORMAL_DIR = r\"dataset/normal\"\r\n",
    "\r\n"
   ],
   "outputs": [],
   "metadata": {}
  },
  {
   "cell_type": "code",
   "execution_count": 22,
   "source": [
    "image_names = os.listdir(KAGGLE_FILE_PATH)\r\n",
    "#image_names"
   ],
   "outputs": [],
   "metadata": {}
  },
  {
   "cell_type": "code",
   "execution_count": 26,
   "source": [
    "random.shuffle(image_names)\r\n",
    "for i in range(196):\r\n",
    "    image_name = image_names[i]\r\n",
    "    image_path = os.path.join(KAGGLE_FILE_PATH,image_name)\r\n",
    "    target_path = os.path.join(TARGET_NORMAL_DIR,image_name)\r\n",
    "    shutil.copy2(image_path,target_path)\r\n",
    "    #print('image',i)"
   ],
   "outputs": [],
   "metadata": {}
  },
  {
   "cell_type": "code",
   "execution_count": null,
   "source": [],
   "outputs": [],
   "metadata": {}
  }
 ],
 "metadata": {
  "orig_nbformat": 4,
  "language_info": {
   "name": "python",
   "version": "3.7.9",
   "mimetype": "text/x-python",
   "codemirror_mode": {
    "name": "ipython",
    "version": 3
   },
   "pygments_lexer": "ipython3",
   "nbconvert_exporter": "python",
   "file_extension": ".py"
  },
  "kernelspec": {
   "name": "python3",
   "display_name": "Python 3.7.9 64-bit"
  },
  "interpreter": {
   "hash": "d511d14e60272b9a5a77db7218cb138afebb4019e3c80988c29ef279e60c3e26"
  }
 },
 "nbformat": 4,
 "nbformat_minor": 2
}